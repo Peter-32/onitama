{
 "cells": [
  {
   "cell_type": "code",
   "execution_count": 5,
   "id": "cc6668db",
   "metadata": {},
   "outputs": [],
   "source": [
    "# half point to stand\n",
    "# 1 point to attack\n",
    "# 5x5\n",
    "# the cross in the center 5 squares.\n",
    "# Can stand anywhere 1-2nd row for early game\n",
    "# 1-3 for mid game\n",
    "left_attack_cards = 1\n",
    "right_attack_cards = 3\n",
    "center_attack_cards = 2\n",
    "dragons = 0\n",
    "tigers = 0\n"
   ]
  },
  {
   "cell_type": "code",
   "execution_count": 18,
   "id": "89f9f675",
   "metadata": {},
   "outputs": [
    {
     "data": {
      "text/plain": [
       "[[0, 0, 0, 0, 0],\n",
       " [0, 0, 0, 0, 0],\n",
       " [0, 0, 0, 0, 0],\n",
       " [0, 0, 0, 0, 0],\n",
       " [0, 0, 0, 0, 0]]"
      ]
     },
     "execution_count": 18,
     "metadata": {},
     "output_type": "execute_result"
    }
   ],
   "source": [
    "import copy\n",
    "empty_board = [[0,0,0,0,0],[0,0,0,0,0],[0,0,0,0,0],[0,0,0,0,0],[0,0,0,0,0]]\n",
    "import numpy as np\n",
    "empty_board\n"
   ]
  },
  {
   "cell_type": "code",
   "execution_count": 9,
   "id": "4f9fda36",
   "metadata": {},
   "outputs": [
    {
     "data": {
      "text/plain": [
       "0.1786476426946657"
      ]
     },
     "execution_count": 9,
     "metadata": {},
     "output_type": "execute_result"
    }
   ],
   "source": [
    "np.random.uniform()"
   ]
  },
  {
   "cell_type": "code",
   "execution_count": 10,
   "id": "51973672",
   "metadata": {},
   "outputs": [],
   "source": [
    "board_locations_early = [(4, 0), (4, 1), (4, 2), (4, 3), (4, 4), (3, 0), (3, 1), (3, 2), (3, 3), (3, 4)]"
   ]
  },
  {
   "cell_type": "code",
   "execution_count": 11,
   "id": "b2dff429",
   "metadata": {},
   "outputs": [
    {
     "data": {
      "text/plain": [
       "252"
      ]
     },
     "execution_count": 11,
     "metadata": {},
     "output_type": "execute_result"
    }
   ],
   "source": [
    "import itertools\n",
    "all_combos = list(itertools.combinations(board_locations_early, 5))\n",
    "len(all_combos)"
   ]
  },
  {
   "cell_type": "code",
   "execution_count": 27,
   "id": "0eb7d0b3",
   "metadata": {},
   "outputs": [
    {
     "data": {
      "text/plain": [
       "[[0, 0, 0, 0, 0],\n",
       " [0, 0, 1, 0, 0],\n",
       " [0, 1, 1, 1, 0],\n",
       " [0, 0, 1, 0, 0],\n",
       " [0, 0, 0, 0, 0]]"
      ]
     },
     "execution_count": 27,
     "metadata": {},
     "output_type": "execute_result"
    }
   ],
   "source": [
    "cross_locations = [(2, 1), (2, 2), (2, 3), (1, 2), (3, 2)]\n",
    "board = copy.deepcopy(empty_board)\n",
    "for (y, x) in cross_locations:\n",
    "    board[y][x] = 1\n",
    "board\n"
   ]
  },
  {
   "cell_type": "code",
   "execution_count": 35,
   "id": "78d36ef1",
   "metadata": {},
   "outputs": [
    {
     "data": {
      "text/plain": [
       "[([[0, 0, 0, 0, 0],\n",
       "   [0, 0, 0, 0, 0],\n",
       "   [0, 0, 0, 0, 0],\n",
       "   [0, 1, 0, 0, 0],\n",
       "   [1, 1, 1, 1, 0]],\n",
       "  32.5),\n",
       " ([[0, 0, 0, 0, 0],\n",
       "   [0, 0, 0, 0, 0],\n",
       "   [0, 0, 0, 0, 0],\n",
       "   [0, 0, 1, 0, 0],\n",
       "   [1, 1, 1, 1, 0]],\n",
       "  32.5),\n",
       " ([[0, 0, 0, 0, 0],\n",
       "   [0, 0, 0, 0, 0],\n",
       "   [0, 0, 0, 0, 0],\n",
       "   [0, 1, 0, 0, 0],\n",
       "   [1, 1, 1, 0, 1]],\n",
       "  32.5),\n",
       " ([[0, 0, 0, 0, 0],\n",
       "   [0, 0, 0, 0, 0],\n",
       "   [0, 0, 0, 0, 0],\n",
       "   [1, 1, 0, 0, 0],\n",
       "   [1, 1, 1, 0, 0]],\n",
       "  32.5),\n",
       " ([[0, 0, 0, 0, 0],\n",
       "   [0, 0, 0, 0, 0],\n",
       "   [0, 0, 0, 0, 0],\n",
       "   [0, 0, 0, 1, 0],\n",
       "   [1, 0, 1, 1, 1]],\n",
       "  32.5),\n",
       " ([[0, 0, 0, 0, 0],\n",
       "   [0, 0, 0, 0, 0],\n",
       "   [0, 0, 0, 0, 0],\n",
       "   [0, 0, 1, 0, 0],\n",
       "   [0, 1, 1, 1, 1]],\n",
       "  32.5),\n",
       " ([[0, 0, 0, 0, 0],\n",
       "   [0, 0, 0, 0, 0],\n",
       "   [0, 0, 0, 0, 0],\n",
       "   [0, 0, 0, 1, 0],\n",
       "   [0, 1, 1, 1, 1]],\n",
       "  32.5),\n",
       " ([[0, 0, 0, 0, 0],\n",
       "   [0, 0, 0, 0, 0],\n",
       "   [0, 0, 0, 0, 0],\n",
       "   [1, 0, 1, 0, 0],\n",
       "   [0, 1, 1, 1, 0]],\n",
       "  32.5),\n",
       " ([[0, 0, 0, 0, 0],\n",
       "   [0, 0, 0, 0, 0],\n",
       "   [0, 0, 0, 0, 0],\n",
       "   [0, 1, 1, 0, 0],\n",
       "   [0, 1, 1, 1, 0]],\n",
       "  32.5),\n",
       " ([[0, 0, 0, 0, 0],\n",
       "   [0, 0, 0, 0, 0],\n",
       "   [0, 0, 0, 0, 0],\n",
       "   [1, 0, 0, 1, 0],\n",
       "   [0, 0, 1, 1, 1]],\n",
       "  32.5),\n",
       " ([[0, 0, 0, 0, 0],\n",
       "   [0, 0, 0, 0, 0],\n",
       "   [0, 0, 0, 0, 0],\n",
       "   [0, 1, 0, 1, 0],\n",
       "   [0, 0, 1, 1, 1]],\n",
       "  32.5),\n",
       " ([[0, 0, 0, 0, 0],\n",
       "   [0, 0, 0, 0, 0],\n",
       "   [0, 0, 0, 0, 0],\n",
       "   [0, 0, 1, 1, 0],\n",
       "   [0, 0, 1, 1, 1]],\n",
       "  32.5)]"
      ]
     },
     "execution_count": 35,
     "metadata": {},
     "output_type": "execute_result"
    }
   ],
   "source": [
    "max_score = -1\n",
    "best_boards = []\n",
    "for combo in all_combos:\n",
    "    # Set up board\n",
    "    score = 0\n",
    "    board = copy.deepcopy(empty_board)\n",
    "    for (y, x) in combo:\n",
    "        board[y][x] = 1\n",
    "    \n",
    "    for (cross_y, cross_x) in cross_locations:\n",
    "        if y+1 < 5 and x-1 > -1 and board[y+1][x-1] == 1:\n",
    "            score += right_attack_cards\n",
    "        if y+1 < 5 and board[y+1][x] == 1:\n",
    "            score += center_attack_cards\n",
    "        if y+1 < 5 and x+1 < 5 and board[y+1][x+1] == 1:\n",
    "            score += left_attack_cards\n",
    "        if y+1 < 5 and x+2 < 5 and board[y+1][x+2] == 1:\n",
    "            score += dragons\n",
    "        if y+1 < 5 and x-2 > -1 and board[y+1][x-2] == 1:\n",
    "            score += dragons\n",
    "        if y+2 < 5 and board[y+2][x] == 1:\n",
    "            score += tigers\n",
    "        if board[y][x] == 1:\n",
    "            score += 0.5\n",
    "    if score >= max_score:\n",
    "        best_boards.append((copy.deepcopy(board), score))\n",
    "        max_score = score\n",
    "best_boards = [(x, y) for (x, y) in best_boards if y == max_score]\n",
    "best_boards\n",
    "    "
   ]
  },
  {
   "cell_type": "code",
   "execution_count": 39,
   "id": "5854661c",
   "metadata": {},
   "outputs": [
    {
     "data": {
      "text/plain": [
       "[[0, 0, 0, 0, 0],\n",
       " [0, 0, 0, 0, 0],\n",
       " [0, 0, 0, 0, 0],\n",
       " [0, 1, 0, 0, 0],\n",
       " [1, 1, 1, 1, 0]]"
      ]
     },
     "execution_count": 39,
     "metadata": {},
     "output_type": "execute_result"
    }
   ],
   "source": [
    "board = best_boards[0][0]\n",
    "board"
   ]
  },
  {
   "cell_type": "code",
   "execution_count": 38,
   "id": "8c277f1a",
   "metadata": {},
   "outputs": [
    {
     "data": {
      "text/plain": [
       "[(2, 1), (2, 2), (2, 3), (1, 2), (3, 2)]"
      ]
     },
     "execution_count": 38,
     "metadata": {},
     "output_type": "execute_result"
    }
   ],
   "source": [
    "cross_locations"
   ]
  },
  {
   "cell_type": "code",
   "execution_count": 37,
   "id": "d4ffbadc",
   "metadata": {},
   "outputs": [
    {
     "name": "stdout",
     "output_type": "stream",
     "text": [
      "5.5 2 1\n",
      "8.5 2 2\n",
      "11.5 2 3\n",
      "14.5 1 2\n",
      "17.5 3 2\n"
     ]
    }
   ],
   "source": [
    "\n",
    "\n",
    "for (cross_y, cross_x) in cross_locations:\n",
    "    if y+1 < 5 and x-1 > -1 and board[y+1][x-1] == 1:\n",
    "        score += right_attack_cards\n",
    "    if y+1 < 5 and board[y+1][x] == 1:\n",
    "        score += center_attack_cards\n",
    "    if y+1 < 5 and x+1 < 5 and board[y+1][x+1] == 1:\n",
    "        score += left_attack_cards\n",
    "    if y+1 < 5 and x+2 < 5 and board[y+1][x+2] == 1:\n",
    "        score += dragons\n",
    "    if y+1 < 5 and x-2 > -1 and board[y+1][x-2] == 1:\n",
    "        score += dragons\n",
    "    if y+2 < 5 and board[y+2][x] == 1:\n",
    "        score += tigers\n",
    "    if board[y][x] == 1:\n",
    "        score += 0.5\n",
    "    print(score, cross_y, cross_x)"
   ]
  },
  {
   "cell_type": "code",
   "execution_count": null,
   "id": "0329fa92",
   "metadata": {},
   "outputs": [],
   "source": []
  }
 ],
 "metadata": {
  "kernelspec": {
   "display_name": "Python 3 (ipykernel)",
   "language": "python",
   "name": "python3"
  },
  "language_info": {
   "codemirror_mode": {
    "name": "ipython",
    "version": 3
   },
   "file_extension": ".py",
   "mimetype": "text/x-python",
   "name": "python",
   "nbconvert_exporter": "python",
   "pygments_lexer": "ipython3",
   "version": "3.10.11"
  }
 },
 "nbformat": 4,
 "nbformat_minor": 5
}
