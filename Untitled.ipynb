{
 "cells": [
  {
   "cell_type": "code",
   "execution_count": 5,
   "id": "5be48065",
   "metadata": {},
   "outputs": [],
   "source": [
    "# half point to stand\n",
    "# 1 point to attack\n",
    "# 5x5\n",
    "# the cross in the center 5 squares.\n",
    "# Can stand anywhere 1-2nd row for early game\n",
    "# 1-3 for mid game\n",
    "left_attack_cards = 1\n",
    "right_attack_cards = 3\n",
    "center_attack_cards = 2\n",
    "dragons = 0\n",
    "tigers = 0\n"
   ]
  },
  {
   "cell_type": "code",
   "execution_count": 8,
   "id": "aead2fae",
   "metadata": {},
   "outputs": [
    {
     "data": {
      "text/plain": [
       "[[0, 0, 0, 0, 0],\n",
       " [0, 0, 0, 0, 0],\n",
       " [0, 0, 0, 0, 0],\n",
       " [0, 0, 0, 0, 0],\n",
       " [0, 0, 0, 0, 0]]"
      ]
     },
     "execution_count": 8,
     "metadata": {},
     "output_type": "execute_result"
    }
   ],
   "source": [
    "board = [[0,0,0,0,0],[0,0,0,0,0],[0,0,0,0,0],[0,0,0,0,0],[0,0,0,0,0]]\n",
    "import numpy as np\n",
    "\n",
    "board"
   ]
  },
  {
   "cell_type": "code",
   "execution_count": 9,
   "id": "b4dc28bd",
   "metadata": {},
   "outputs": [
    {
     "data": {
      "text/plain": [
       "0.1786476426946657"
      ]
     },
     "execution_count": 9,
     "metadata": {},
     "output_type": "execute_result"
    }
   ],
   "source": [
    "np.random.uniform()"
   ]
  },
  {
   "cell_type": "code",
   "execution_count": null,
   "id": "c4ad1a85",
   "metadata": {},
   "outputs": [],
   "source": [
    "board_locations = [(4, 0), (4, 1), (4, 2), (4, 3), (4, 4), (3, 0), (3, 1), (3, 2), (4, 3), (4, 4), "
   ]
  }
 ],
 "metadata": {
  "kernelspec": {
   "display_name": "Python 3 (ipykernel)",
   "language": "python",
   "name": "python3"
  },
  "language_info": {
   "codemirror_mode": {
    "name": "ipython",
    "version": 3
   },
   "file_extension": ".py",
   "mimetype": "text/x-python",
   "name": "python",
   "nbconvert_exporter": "python",
   "pygments_lexer": "ipython3",
   "version": "3.10.11"
  }
 },
 "nbformat": 4,
 "nbformat_minor": 5
}
