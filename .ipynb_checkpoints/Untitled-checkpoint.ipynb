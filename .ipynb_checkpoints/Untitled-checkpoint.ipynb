{
 "cells": [
  {
   "cell_type": "code",
   "execution_count": 59,
   "id": "f947c0f7",
   "metadata": {},
   "outputs": [
    {
     "data": {
      "text/plain": [
       "[([[0, 0, 0, 0, 0],\n",
       "   [0, 0, 0, 0, 0],\n",
       "   [0, 1, 0, 0, 0],\n",
       "   [1, 1, 1, 0, 0],\n",
       "   [0, 1, 0, 0, 0]],\n",
       "  21.0),\n",
       " ([[0, 0, 0, 0, 0],\n",
       "   [0, 0, 0, 0, 0],\n",
       "   [0, 1, 0, 0, 0],\n",
       "   [0, 1, 1, 1, 0],\n",
       "   [0, 1, 0, 0, 0]],\n",
       "  21.0),\n",
       " ([[0, 0, 0, 0, 0],\n",
       "   [0, 0, 0, 0, 0],\n",
       "   [0, 1, 0, 0, 0],\n",
       "   [1, 1, 1, 1, 0],\n",
       "   [0, 0, 0, 0, 0]],\n",
       "  21.0)]"
      ]
     },
     "execution_count": 59,
     "metadata": {},
     "output_type": "execute_result"
    }
   ],
   "source": [
    "# half point to stand\n",
    "# 1 point to attack\n",
    "# 5x5\n",
    "# the cross in the center 5 squares.\n",
    "# Can stand anywhere 1-2nd row for early game\n",
    "# 1-3 for mid game\n",
    "import copy\n",
    "import numpy as np\n",
    "import itertools\n",
    "\n",
    "## SETTINGS FOR GAME\n",
    "left_attack_cards = 1\n",
    "right_attack_cards = 3\n",
    "center_attack_cards = 2\n",
    "dragons = 0\n",
    "tigers = 0\n",
    "\n",
    "## SETTINGS FOR GAME\n",
    "\n",
    "cross_locations = [(2, 1), (2, 2), (2, 3), (1, 2), (3, 2)]\n",
    "board = copy.deepcopy(empty_board)\n",
    "for (y, x) in cross_locations:\n",
    "    board[y][x] = 1\n",
    "empty_board = [[0,0,0,0,0],[0,0,0,0,0],[0,0,0,0,0],[0,0,0,0,0],[0,0,0,0,0]]\n",
    "\n",
    "print(\"EARLY GAME\")\n",
    "is_early = 1\n",
    "if is_early:\n",
    "    board_locations = [(4, 0), (4, 1), (4, 2), (4, 3), (4, 4), (3, 0), (3, 1), (3, 2), (3, 3), (3, 4)]\n",
    "else:\n",
    "    board_locations = [(2, 0), (2, 1), (2, 2), (2, 3), (2, 4), (4, 0), (4, 1), (4, 2), (4, 3), (4, 4), (3, 0), (3, 1), (3, 2), (3, 3), (3, 4)]\n",
    "    all_combos = list(itertools.combinations(board_locations, 5))\n",
    "\n",
    "max_score = -1\n",
    "best_boards = []\n",
    "for combo in all_combos:\n",
    "    # Set up board\n",
    "    score = 0\n",
    "    board = copy.deepcopy(empty_board)\n",
    "    for (y, x) in combo:\n",
    "        board[y][x] = 1\n",
    "    \n",
    "    for (y, x) in cross_locations:\n",
    "        if y+1 < 5 and x-1 > -1 and board[y+1][x-1] == 1:\n",
    "            score += right_attack_cards\n",
    "        if y+1 < 5 and board[y+1][x] == 1:\n",
    "            score += center_attack_cards\n",
    "        if y+1 < 5 and x+1 < 5 and board[y+1][x+1] == 1:\n",
    "            score += left_attack_cards\n",
    "        if y+1 < 5 and x+2 < 5 and board[y+1][x+2] == 1:\n",
    "            score += dragons\n",
    "        if y+1 < 5 and x-2 > -1 and board[y+1][x-2] == 1:\n",
    "            score += dragons\n",
    "        if y+2 < 5 and board[y+2][x] == 1:\n",
    "            score += tigers\n",
    "        if board[y][x] == 1:\n",
    "            score += 0.5\n",
    "    if score >= max_score:\n",
    "        best_boards.append((copy.deepcopy(board), score))\n",
    "        max_score = score\n",
    "best_boards = [(x, y) for (x, y) in best_boards if y == max_score]\n",
    "best_boards\n",
    "import matplotlib.pyplot as plt\n",
    "for board in best_boards:\n",
    "    cmap = plt.cm.colors.ListedColormap(['white', 'blue'])\n",
    "\n",
    "    # Plot the grid\n",
    "    plt.imshow(board[0], cmap=cmap)\n",
    "\n",
    "    # Add grid lines for clarity\n",
    "    plt.grid(True, color='black', linewidth=1)\n",
    "\n",
    "    plt.grid(False)\n",
    "\n",
    "    # Show the plot\n",
    "    plt.show()\n",
    "    \n",
    "    \n",
    "print(\"MID GAME\")\n",
    "is_early = 0\n",
    "if is_early:\n",
    "    board_locations = [(4, 0), (4, 1), (4, 2), (4, 3), (4, 4), (3, 0), (3, 1), (3, 2), (3, 3), (3, 4)]\n",
    "else:\n",
    "    board_locations = [(2, 0), (2, 1), (2, 2), (2, 3), (2, 4), (4, 0), (4, 1), (4, 2), (4, 3), (4, 4), (3, 0), (3, 1), (3, 2), (3, 3), (3, 4)]\n",
    "    all_combos = list(itertools.combinations(board_locations, 5))\n",
    "\n",
    "max_score = -1\n",
    "best_boards = []\n",
    "for combo in all_combos:\n",
    "    # Set up board\n",
    "    score = 0\n",
    "    board = copy.deepcopy(empty_board)\n",
    "    for (y, x) in combo:\n",
    "        board[y][x] = 1\n",
    "    \n",
    "    for (y, x) in cross_locations:\n",
    "        if y+1 < 5 and x-1 > -1 and board[y+1][x-1] == 1:\n",
    "            score += right_attack_cards\n",
    "        if y+1 < 5 and board[y+1][x] == 1:\n",
    "            score += center_attack_cards\n",
    "        if y+1 < 5 and x+1 < 5 and board[y+1][x+1] == 1:\n",
    "            score += left_attack_cards\n",
    "        if y+1 < 5 and x+2 < 5 and board[y+1][x+2] == 1:\n",
    "            score += dragons\n",
    "        if y+1 < 5 and x-2 > -1 and board[y+1][x-2] == 1:\n",
    "            score += dragons\n",
    "        if y+2 < 5 and board[y+2][x] == 1:\n",
    "            score += tigers\n",
    "        if board[y][x] == 1:\n",
    "            score += 0.5\n",
    "    if score >= max_score:\n",
    "        best_boards.append((copy.deepcopy(board), score))\n",
    "        max_score = score\n",
    "best_boards = [(x, y) for (x, y) in best_boards if y == max_score]\n",
    "best_boards\n",
    "import matplotlib.pyplot as plt\n",
    "for board in best_boards:\n",
    "    cmap = plt.cm.colors.ListedColormap(['white', 'blue'])\n",
    "\n",
    "    # Plot the grid\n",
    "    plt.imshow(board[0], cmap=cmap)\n",
    "\n",
    "    # Add grid lines for clarity\n",
    "    plt.grid(True, color='black', linewidth=1)\n",
    "\n",
    "    plt.grid(False)\n",
    "\n",
    "    # Show the plot\n",
    "    plt.show()\n",
    "    \n",
    "    "
   ]
  },
  {
   "cell_type": "code",
   "execution_count": 66,
   "id": "67358f53",
   "metadata": {},
   "outputs": [
    {
     "data": {
      "image/png": "[encoded data removed]",
      "text/plain": [
       "<Figure size 640x480 with 1 Axes>"
      ]
     },
     "metadata": {},
     "output_type": "display_data"
    },
    {
     "data": {
      "image/png": "[encoded data removed]",
      "text/plain": [
       "<Figure size 640x480 with 1 Axes>"
      ]
     },
     "metadata": {},
     "output_type": "display_data"
    },
    {
     "data": {
      "image/png": "[encoded data removed]",
      "text/plain": [
       "<Figure size 640x480 with 1 Axes>"
      ]
     },
     "metadata": {},
     "output_type": "display_data"
    }
   ],
   "source": []
  },
  {
   "cell_type": "code",
   "execution_count": null,
   "id": "3bdf6b14",
   "metadata": {},
   "outputs": [],
   "source": []
  }
 ],
 "metadata": {
  "kernelspec": {
   "display_name": "Python 3 (ipykernel)",
   "language": "python",
   "name": "python3"
  },
  "language_info": {
   "codemirror_mode": {
    "name": "ipython",
    "version": 3
   },
   "file_extension": ".py",
   "mimetype": "text/x-python",
   "name": "python",
   "nbconvert_exporter": "python",
   "pygments_lexer": "ipython3",
   "version": "3.10.11"
  }
 },
 "nbformat": 4,
 "nbformat_minor": 5
}
